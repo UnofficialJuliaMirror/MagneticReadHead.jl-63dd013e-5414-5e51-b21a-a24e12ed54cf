{
 "cells": [
  {
   "cell_type": "markdown",
   "metadata": {
    "slideshow": {
     "slide_type": "slide"
    }
   },
   "source": [
    "# Building a Debugger with Cassette\n",
    "<img src=\"https://avatars1.githubusercontent.com/u/46803805?s=156&v=4\" style=\"display: inline\"> <img src=\"https://raw.githubusercontent.com/jrevels/Cassette.jl/master/docs/img/cassette-logo.png\" width=\"256\" style=\"display: inline\"/>\n",
    "## Lyndon White (@oxinabox)\n",
    "### RSE at Invenia Labs"
   ]
  },
  {
   "cell_type": "code",
   "execution_count": 1,
   "metadata": {
    "slideshow": {
     "slide_type": "skip"
    }
   },
   "outputs": [
    {
     "data": {
      "text/plain": [
       "iprintstyled (generic function with 1 method)"
      ]
     },
     "execution_count": 1,
     "metadata": {},
     "output_type": "execute_result"
    }
   ],
   "source": [
    "function iprintstyled(xs...)\n",
    "    color=last(xs)\n",
    "    x = join(xs[1:end-1])\n",
    "    display(\"text/html\", \"\"\"<pre style=\"color: $color\">$x</pre>\"\"\")\n",
    "end"
   ]
  },
  {
   "cell_type": "markdown",
   "metadata": {
    "slideshow": {
     "slide_type": "subslide"
    }
   },
   "source": [
    "## With Thanks\n",
    " - Tim Holy\n",
    " - Kristoffer Carlsson\n",
    " - Jarrett Revels\n",
    " - Keno Fischer\n"
   ]
  },
  {
   "cell_type": "markdown",
   "metadata": {
    "slideshow": {
     "slide_type": "slide"
    }
   },
   "source": [
    "### What is Magnetic Read Head ?\n",
    "\n",
    "A Magentic Read Head sits above a cassette tape (or a magnetic disk), and reads the content off of it.\n",
    "\n",
    " - **MRH** instruments the IR, and uses the **standard compiler**.\n",
    " - **Debugger.jl** uses JuliaInterpreter.jl"
   ]
  },
  {
   "cell_type": "markdown",
   "metadata": {
    "slideshow": {
     "slide_type": "slide"
    }
   },
   "source": [
    "### Performance:\n",
    "\n",
    "```julia\n",
    "function summer(A)\n",
    "   s = zero(eltype(A))\n",
    "   for a in A\n",
    "       s += a\n",
    "   end\n",
    "   return s\n",
    "end\n",
    "```\n",
    "   "
   ]
  },
  {
   "cell_type": "markdown",
   "metadata": {
    "slideshow": {
     "slide_type": "subslide"
    }
   },
   "source": [
    "<img src=\"benchmark.png\" width=\"90%\" style=\"display: inline-block\"/>"
   ]
  },
  {
   "cell_type": "markdown",
   "metadata": {
    "slideshow": {
     "slide_type": "subslide"
    }
   },
   "source": [
    "## Performance of debuggers is complicated:\n",
    " - MRH has to recompile every method it touchs the first time,\n",
    "    - run-only-once is common when debugging.\n",
    "    - recompiling large libraries is huge slow\n",
    " - This kind of instrumentation destroys SIMD, and potentially breaks CPU pipelining"
   ]
  },
  {
   "cell_type": "markdown",
   "metadata": {
    "slideshow": {
     "slide_type": "subslide"
    }
   },
   "source": [
    "## Insane blackholes exist\n",
    "\n",
    "```julia\n",
    "julia> foo() = Complex.(rand(1,2), rand(1,2)) * rand(Int, 2,1);\n",
    "\n",
    "julia> @btime foo();\n",
    "  297.770 ns (9 allocations: 720 bytes)\n",
    "\n",
    "julia> @btime Debugger.@run foo();\n",
    "  15.472 ms (46982 allocations: 1.78 MiB)\n",
    "\n",
    "julia> @time MagneticReadHead.@run foo()\n",
    "  #==  Sits there compiling for over 30 minutes before I give up ==#\n",
    "```"
   ]
  },
  {
   "cell_type": "markdown",
   "metadata": {
    "slideshow": {
     "slide_type": "subslide"
    }
   },
   "source": [
    "### MRH massively increases the amount of Lowered IR generated\n",
    "\n",
    "Original Code Lowered Size: $$O(n_{statements})\\qquad \\qquad \\mathrm{eg:}\\quad 160$$\n",
    "\n",
    "MRH Instrumented Size: $$O(n_{slots} \\times n_{statements}) \\qquad \\qquad \\mathrm{eg:}\\quad 25,230$$ \n",
    "\n",
    "### Compile time-complexity is at worse then quadratic vs IR length"
   ]
  },
  {
   "cell_type": "markdown",
   "metadata": {
    "slideshow": {
     "slide_type": "subslide"
    }
   },
   "source": [
    "### On Performance:\n",
    "**Debugger.jl**: Significant runtime overhead  \n",
    "**MagneticReadHead.jl**: Significant compile-time overhead\n",
    "\n",
    " - But: This is being worked on in both cases\n",
    " - We **can** have nice things, and the best of both worlds."
   ]
  },
  {
   "cell_type": "markdown",
   "metadata": {
    "slideshow": {
     "slide_type": "slide"
    }
   },
   "source": [
    "## What does a debugger need?\n",
    "  - At points in code, check if we are hitting a breakpoint: `should_break`\n",
    "  - if so take some `break_action`\n",
    "  - if not keep running as normal"
   ]
  },
  {
   "cell_type": "markdown",
   "metadata": {
    "slideshow": {
     "slide_type": "subslide"
    }
   },
   "source": [
    "### What does the `break_action` need ?\n",
    " - know where in the code we are. (**breadcrumbs**)\n",
    " - know the current state: all the **variables**.\n",
    " - Some way to interact with them (**debug REPL**)\n",
    " - Ability to set and remove breakpoints/step-in/out (**control**)"
   ]
  },
  {
   "cell_type": "markdown",
   "metadata": {
    "slideshow": {
     "slide_type": "subslide"
    }
   },
   "source": [
    "### What does `should_break` do?\n",
    " - Check if we are _Stepping_\n",
    " - Check `current_location` against a set of **breakpoint rules**\n",
    "    - e.g. for line number, function, method, module\n",
    "    - that were defined by `set_breakpoint`\n",
    "    "
   ]
  },
  {
   "cell_type": "markdown",
   "metadata": {
    "slideshow": {
     "slide_type": "subslide"
    }
   },
   "source": [
    "### How do we instrument out code to make a debugger work?\n",
    "Insert at points:\n",
    "\n",
    "```julia\n",
    "if should_break(current_location)\n",
    "    break_action(current_location, current_variables)\n",
    "end\n",
    "```"
   ]
  },
  {
   "cell_type": "markdown",
   "metadata": {
    "slideshow": {
     "slide_type": "subslide"
    }
   },
   "source": [
    "### What does `break_action` do?\n",
    " - Run a REPL, substututing in the values for the variables\n",
    " - `@eval` things into `Main` scope, \n",
    "    - so`set_breakpoint` works\n",
    " - Handle actions like `StepNext` by changing debugger state"
   ]
  },
  {
   "cell_type": "markdown",
   "metadata": {
    "slideshow": {
     "slide_type": "slide"
    }
   },
   "source": [
    "## Julia IR: Lightning Intro"
   ]
  },
  {
   "cell_type": "markdown",
   "metadata": {
    "slideshow": {
     "slide_type": "subslide"
    }
   },
   "source": [
    "## Julia: layers of representenstation:\n",
    " - Source code\n",
    " - AST: `quote`\n",
    " - **Untyped IR**: `@code_lowered`\n",
    " - Typed IR: `@code_typed`\n",
    " - LLVM: `@code_llvm`\n",
    " - ASM: `@code_native`"
   ]
  },
  {
   "cell_type": "markdown",
   "metadata": {
    "slideshow": {
     "slide_type": "subslide"
    }
   },
   "source": [
    "### Untyped IR: this is what we are working with\n",
    " - basically a linearization of the AST.\n",
    " - the return values for each statement is accessed as `SSAValue(index)`\n",
    " - Variables ↦ Slots\n",
    " - Loops ↦ Label + Goto\n",
    " - function names ↦ `GlobalRef(mod, func)`\n",
    " - Only 1 operation per statement (Nested expressions get broken up) \n"
   ]
  },
  {
   "cell_type": "markdown",
   "metadata": {
    "slideshow": {
     "slide_type": "subslide"
    }
   },
   "source": [
    "## How Does Cassette Work?\n",
    " - It is not magic, Cassette is not specially baked into the compiler.\n",
    " - `@generated` function can return a `Expr` **or** a `CodeInfo`\n",
    " - We return a `CodeInfo` based on a modified version of one for a function argument. Its a bit like a macro with dynamic scope.\n",
    " - This capacity allows on to build AD tools, Mocking tools, Debuggers and more.\n",
    "     - Contrast: Swift for TensorFlow which is adding AD into the compiler."
   ]
  },
  {
   "cell_type": "markdown",
   "metadata": {
    "slideshow": {
     "slide_type": "subslide"
    }
   },
   "source": [
    "### Manual pass\n",
    "```julia\n",
    "call_and_print(f, args...) = (println(f, \" \", args); f(args...))\n",
    "\n",
    "@generated function rewritten(f)\n",
    "    meth = first(methods(f.instance, Tuple{}))\n",
    "    ci = copy(Base.uncompressed_ast(meth))\n",
    "    for ii in 1:length(ci.code)\n",
    "        if ci.code[ii] isa Expr && ci.code[ii].head==:call\n",
    "            func = GlobalRef(Main, :call_and_print)\n",
    "            ci.code[ii] = Expr(:call, func, statement.args...)\n",
    "        end\n",
    "    end\n",
    "    return ci\n",
    "end\n",
    "```"
   ]
  },
  {
   "cell_type": "markdown",
   "metadata": {
    "slideshow": {
     "slide_type": "subslide"
    }
   },
   "source": [
    "### Result of our manual pass:\n",
    "```julia\n",
    "julia> foo() = 2*(1+1);\n",
    "julia> rewritten(foo)\n",
    "+ (1, 1)\n",
    "* (2, 2)\n",
    "4\n",
    "```"
   ]
  },
  {
   "cell_type": "markdown",
   "metadata": {},
   "source": [
    "Rather than just transforming function calls to just call `call_and_print`  \n",
    "we could have changed them to call `rewrite`,\n",
    "\n",
    "This is how Cassette (and IRTools, and Arborist) work."
   ]
  },
  {
   "cell_type": "code",
   "execution_count": null,
   "metadata": {},
   "outputs": [],
   "source": []
  },
  {
   "cell_type": "markdown",
   "metadata": {
    "slideshow": {
     "slide_type": "slide"
    }
   },
   "source": [
    "## Debugger 1\n",
    "### MRH v0.1-like\n",
    "### Overdub functions you want to debug."
   ]
  },
  {
   "cell_type": "markdown",
   "metadata": {
    "slideshow": {
     "slide_type": "slide"
    }
   },
   "source": [
    "### concept prototype\n",
    " - Overdub function calls to trigger break action."
   ]
  },
  {
   "cell_type": "code",
   "execution_count": 2,
   "metadata": {
    "slideshow": {
     "slide_type": "subslide"
    }
   },
   "outputs": [],
   "source": [
    "using Cassette\n",
    "Cassette.@context Concept1\n",
    "function Cassette.overdub(ctx::Concept1, f::typeof(+), args...)\n",
    "    method = @which f(args...)\n",
    "    iprintstyled(\"Breakpont Hit\", :red)\n",
    "    iprintstyled(method, :green);\n",
    "    iprintstyled(\"Args: \", args, :blue);\n",
    "    println(\"...press enter to continue...\")\n",
    "    #readline()\n",
    "    \n",
    "    Cassette.recurse(ctx, f, args...)\n",
    "end"
   ]
  },
  {
   "cell_type": "code",
   "execution_count": 3,
   "metadata": {
    "slideshow": {
     "slide_type": "subslide"
    }
   },
   "outputs": [
    {
     "data": {
      "text/html": [
       "<pre style=\"color: red\">Breakpont Hit</pre>"
      ]
     },
     "metadata": {},
     "output_type": "display_data"
    },
    {
     "data": {
      "text/html": [
       "<pre style=\"color: green\">+(x::T, y::T) where T<:Union{Int128, Int16, Int32, Int64, Int8, UInt128, UInt16, UInt32, UInt64, UInt8} in Base at int.jl:53</pre>"
      ]
     },
     "metadata": {},
     "output_type": "display_data"
    },
    {
     "data": {
      "text/html": [
       "<pre style=\"color: blue\">Args: (4, 1)</pre>"
      ]
     },
     "metadata": {},
     "output_type": "display_data"
    },
    {
     "data": {
      "text/html": [
       "<pre style=\"color: red\">Breakpont Hit</pre>"
      ]
     },
     "metadata": {},
     "output_type": "display_data"
    },
    {
     "data": {
      "text/html": [
       "<pre style=\"color: green\">+(x::T, y::T) where T<:Union{Int128, Int16, Int32, Int64, Int8, UInt128, UInt16, UInt32, UInt64, UInt8} in Base at int.jl:53</pre>"
      ]
     },
     "metadata": {},
     "output_type": "display_data"
    },
    {
     "data": {
      "text/html": [
       "<pre style=\"color: blue\">Args: (5, 10)</pre>"
      ]
     },
     "metadata": {},
     "output_type": "display_data"
    },
    {
     "name": "stdout",
     "output_type": "stream",
     "text": [
      "...press enter to continue...\n",
      "...press enter to continue...\n"
     ]
    },
    {
     "data": {
      "text/plain": [
       "15"
      ]
     },
     "execution_count": 3,
     "metadata": {},
     "output_type": "execute_result"
    }
   ],
   "source": [
    "function foo(a)\n",
    "    b = a+1\n",
    "    c= 2b\n",
    "    return b+c\n",
    "end\n",
    "Cassette.recurse(Concept1(), ()->foo(4))"
   ]
  },
  {
   "cell_type": "markdown",
   "metadata": {
    "slideshow": {
     "slide_type": "slide"
    }
   },
   "source": [
    "### Generalizing that prototype\n",
    " - add setting of breakpoint via `@eval`\n",
    " - add deleting of breakpoints via `Base.deletemethod`\n",
    " - add Stepping via setting a breakpoint on every call\n",
    " - Improve UX via showing a REPL with named variables etc"
   ]
  },
  {
   "cell_type": "code",
   "execution_count": 4,
   "metadata": {
    "slideshow": {
     "slide_type": "subslide"
    }
   },
   "outputs": [
    {
     "data": {
      "text/plain": [
       "set_breakpoint (generic function with 1 method)"
      ]
     },
     "execution_count": 4,
     "metadata": {},
     "output_type": "execute_result"
    }
   ],
   "source": [
    "Cassette.@context Concept2\n",
    "function set_breakpoint(ctx::Concept2, f::F) where F\n",
    "    @eval function Cassette.overdub(ctx::Concept2, f::$F, args...)\n",
    "        method = @which f(args...)\n",
    "        iprintstyled(\"Breakpont Hit\", :red)\n",
    "        iprintstyled(method, :green);\n",
    "        iprintstyled(\"Args: \", args, :blue);\n",
    "        println(\"...press enter to continue...\")\n",
    "        #readline()\n",
    "        if Cassette.canrecurse(ctx, f, args...)\n",
    "            Cassette.recurse(ctx, f, args...)\n",
    "        else \n",
    "            Cassette.fallback(ctx, f, args...)\n",
    "        end\n",
    "    end\n",
    "end"
   ]
  },
  {
   "cell_type": "code",
   "execution_count": 5,
   "metadata": {
    "slideshow": {
     "slide_type": "subslide"
    }
   },
   "outputs": [
    {
     "data": {
      "text/html": [
       "<pre style=\"color: red\">Breakpont Hit</pre>"
      ]
     },
     "metadata": {},
     "output_type": "display_data"
    },
    {
     "data": {
      "text/html": [
       "<pre style=\"color: green\">blarg(x) in Main at In[5]:2</pre>"
      ]
     },
     "metadata": {},
     "output_type": "display_data"
    },
    {
     "data": {
      "text/html": [
       "<pre style=\"color: blue\">Args: (1,)</pre>"
      ]
     },
     "metadata": {},
     "output_type": "display_data"
    },
    {
     "name": "stdout",
     "output_type": "stream",
     "text": [
      "...press enter to continue...\n"
     ]
    },
    {
     "data": {
      "text/plain": [
       "6"
      ]
     },
     "execution_count": 5,
     "metadata": {},
     "output_type": "execute_result"
    }
   ],
   "source": [
    "bar(x) = x + blarg(x)\n",
    "blarg(x) = 5\n",
    "\n",
    "set_breakpoint(Concept2(), blarg)\n",
    "\n",
    "Cassette.@overdub Concept2() bar(1)"
   ]
  },
  {
   "cell_type": "markdown",
   "metadata": {
    "slideshow": {
     "slide_type": "slide"
    }
   },
   "source": [
    "## Debugger Bits\n",
    "Lots of bits of a debugger are not too hard."
   ]
  },
  {
   "cell_type": "markdown",
   "metadata": {
    "slideshow": {
     "slide_type": "subslide"
    }
   },
   "source": [
    "### A Decent REPL can be written in 50 lines\n",
    "an ok one can be written in 12\n",
    "```julia\n",
    "function run_repl(name2var)\n",
    "    while true\n",
    "        code_ast = Meta.parse(readline())       # READ\n",
    "        code_ast == nothing && break\n",
    "        code_ast = subnames(name2var, code_ast)\n",
    "        try\n",
    "            result = eval(code_ast)             # EVAL\n",
    "            display(result)                     # PRINT\n",
    "        catch err\n",
    "            showerror(stdout, err)\n",
    "        end\n",
    "    end                                         # LOOP\n",
    "end\n",
    "```\n",
    "\n",
    "\n",
    "Fun Fact: Julia comes with 5 REPLs."
   ]
  },
  {
   "cell_type": "markdown",
   "metadata": {
    "slideshow": {
     "slide_type": "subslide"
    }
   },
   "source": [
    "### CodeInfo `lineinfo` and `codelocs` contain all you need to male from Line to IR statement index\n",
    "\n",
    "```julia\n",
    "function src_line2ir_statement_ind(ir, src_line)\n",
    "    linetable_ind = findlast(ir.linetable) do lineinfo\n",
    "        lineinfo.line == src_line\n",
    "    end\n",
    "    statement_ind = findlast(isequal(linetable_ind), ir.codelocs)\n",
    "    return statement_ind\n",
    "end\n",
    "\n",
    "function src_line2ir_statement_ind(meth::Method, src_line)\n",
    "    ir = Base.uncompressed_ast(meth)\n",
    "    return src_line2ir_statement_ind(ir, src_line)\n",
    "end\n",
    "```\n",
    "\n",
    "### Use this to allow setting a breakpoint on a particular line.\n",
    "CodeTracking.jl can help find where methods start and end"
   ]
  },
  {
   "cell_type": "markdown",
   "metadata": {
    "slideshow": {
     "slide_type": "subslide"
    }
   },
   "source": [
    "### Reverse: Finding Line Number from IR statement index  is even easier\n",
    "```julia\n",
    "function statement_ind2src_linenum(ir, statement_ind)\n",
    "    code_loc = ir.codelocs[statement_ind]\n",
    "    return ir.linetable[code_loc].line\n",
    "end\n",
    "```\n",
    "\n",
    "### Use this to display breadcrumbs\n"
   ]
  },
  {
   "cell_type": "markdown",
   "metadata": {
    "slideshow": {
     "slide_type": "subslide"
    }
   },
   "source": [
    "### Working stepping state on exitting and entering function basically sucks\n",
    "It is basically a state machine:\n",
    " - On the way is easy: \n",
    "     - 4 states: StepIn StepNext StepContinue StepOut\n",
    "     \n",
    " - Out is harder:\n",
    "     - 4*4 states, as the state before entering the called function and the state set by the called function need to be used.\n",
    "     \n",
    " - this can all be controlled from the `overdub`"
   ]
  },
  {
   "cell_type": "markdown",
   "metadata": {
    "slideshow": {
     "slide_type": "subslide"
    }
   },
   "source": [
    "### Answer In (easy)\n",
    "```julia\n",
    "if Cassette.canrecurse(ctx, f, args...)\n",
    "    if cur_mode === StepIn\n",
    "        ctx.metadata.stepping_mode = StepNext\n",
    "    else\n",
    "        ctx.metadata.stepping_mode = StepContinue\n",
    "    end\n",
    "    try\n",
    "        return Cassette.recurse(ctx, f, args...)\n",
    "```"
   ]
  },
  {
   "cell_type": "markdown",
   "metadata": {
    "slideshow": {
     "slide_type": "subslide"
    }
   },
   "source": [
    "### Answer Out (Harder)\n",
    "```julia\n",
    "finally\n",
    "    # Determine stepping mode for parent\n",
    "    child_instruction = ctx.metadata.stepping_mode\n",
    "    if child_instruction !== StepContinue\n",
    "        ctx.metadata.stepping_mode = StepNext\n",
    "    elseif cur_mode === StepIn\n",
    "        ctx.metadata.stepping_mode = StepContinue\n",
    "    else \n",
    "        ctx.metadata.stepping_mode = cur_mode\n",
    "    end\n",
    "end\n",
    "```"
   ]
  },
  {
   "cell_type": "markdown",
   "metadata": {
    "slideshow": {
     "slide_type": "slide"
    }
   },
   "source": [
    "## Debugger 2\n",
    "### MRH v0.3-like"
   ]
  },
  {
   "cell_type": "markdown",
   "metadata": {
    "slideshow": {
     "slide_type": "subslide"
    }
   },
   "source": [
    " - It is a bit redundant to be going aroud making copies of this that are already in memory **somewhere**\n",
    " - In the ideal world we would just insert a call to `@locals` into the lower code\n",
    "    - but `@locals` is a fake macro -- it is actually resolved during lowering.\n",
    " - What we can do is insert the same kind of code that `@locals` would."
   ]
  },
  {
   "cell_type": "markdown",
   "metadata": {},
   "source": [
    "### To To this we are going to need to use an IR pass\n",
    " - IR pass is the same kind of thing we did at the start.\n",
    " - but Cassette gives us some helpers, and handles some of fiddlier things.\n",
    " - Your path function gets as its input a `Reflection` object.\n",
    " - It must return a `CodeInfo`"
   ]
  },
  {
   "cell_type": "markdown",
   "metadata": {},
   "source": [
    "### What do we Know (`Reflection` input):\n",
    " - `method` (+ signature + static_params)\n",
    " - `code_info`: (copied) We are going to edit this\n",
    "      - `code`: Array of linearized expressions (SSA form)\n",
    "      - `codelocs`: maps from IR statement index to entry in `lineinfo`\n",
    "      - `lineinfo`: tells you a position in linenumber + filenam\n",
    "      - `slotnames`: Array of names for all the variables"
   ]
  },
  {
   "cell_type": "code",
   "execution_count": 38,
   "metadata": {},
   "outputs": [
    {
     "data": {
      "text/plain": [
       "(:signature, :method, :static_params, :code_info)"
      ]
     },
     "execution_count": 38,
     "metadata": {},
     "output_type": "execute_result"
    }
   ],
   "source": [
    "Cassette.Reflection |> fieldnames"
   ]
  },
  {
   "cell_type": "code",
   "execution_count": 41,
   "metadata": {},
   "outputs": [
    {
     "name": "stdout",
     "output_type": "stream",
     "text": [
      "Core.CodeInfo\n",
      "  code: Array{Any}((2,))\n",
      "    1: Expr\n",
      "      head: Symbol call\n",
      "      args: Array{Any}((3,))\n",
      "        1: GlobalRef\n",
      "          mod: Module Base\n",
      "          name: Symbol add_int\n",
      "        2: Core.SlotNumber\n",
      "          id: Int64 2\n",
      "        3: Core.SlotNumber\n",
      "          id: Int64 3\n",
      "    2: Expr\n",
      "      head: Symbol return\n",
      "      args: Array{Any}((1,))\n",
      "        1: Core.SSAValue\n",
      "          id: Int64 1\n",
      "  codelocs: Array{Int32}((2,)) Int32[1, 1]\n",
      "  method_for_inference_limit_heuristics: Nothing nothing\n",
      "  ssavaluetypes: Int64 2\n",
      "  linetable: Array{Any}((1,))\n",
      "    1: Core.LineInfoNode\n",
      "      mod: Module Base\n",
      "      method: Symbol +\n",
      "      file: Symbol int.jl\n",
      "      line: Int64 53\n",
      "      inlined_at: Int64 0\n",
      "  ssaflags: Array{UInt8}((0,)) UInt8[]\n",
      "  slotflags: Array{UInt8}((3,)) UInt8[0x00, 0x00, 0x00]\n",
      "  slotnames: Array{Any}((3,))\n",
      "    1: Symbol #self#\n",
      "    2: Symbol x\n",
      "    3: Symbol y\n",
      "  inferred: Bool false\n",
      "  inlineable: Bool false\n",
      "  propagate_inbounds: Bool false\n",
      "  pure: Bool false\n"
     ]
    }
   ],
   "source": [
    "ci = @code_lowered 1+1\n",
    "dump(ci)"
   ]
  },
  {
   "cell_type": "code",
   "execution_count": 43,
   "metadata": {},
   "outputs": [],
   "source": [
    "Cassette.@context Concept31\n",
    "function Cassette.overdub(ctx::Concept31, f, args...)\n",
    "    depth = ctx.metadata\n",
    "    if depth[] < 2 && Cassette.canrecurse(ctx, f, args...)\n",
    "        method = @which f(args...)\n",
    "        iprintstyled(method, :green);\n",
    "        depth[] += 1\n",
    "        try\n",
    "            Cassette.recurse(ctx, f, args...)\n",
    "        finally\n",
    "            depth[] -= 1\n",
    "        end\n",
    "    else \n",
    "        Cassette.fallback(ctx, f, args...)\n",
    "    end\n",
    "end\n"
   ]
  },
  {
   "cell_type": "code",
   "execution_count": 44,
   "metadata": {},
   "outputs": [
    {
     "data": {
      "text/plain": [
       "getfield(Main, Symbol(\"##PassType#365\"))()"
      ]
     },
     "execution_count": 44,
     "metadata": {},
     "output_type": "execute_result"
    }
   ],
   "source": [
    "call_expr(mod::Module, func::Symbol, args...) = Expr(:call, Expr(:nooverdub, GlobalRef(mod, func)), args...)\n",
    "\n",
    "function instrument31!(::Type{<:Concept31}, reflection::Cassette.Reflection)\n",
    "    ci = reflection.code_info\n",
    "    \n",
    "    enter_debug_statements(::Any, ::Any) = nothing\n",
    "    function enter_debug_statements(stmt::Expr, initial_ind)\n",
    "        cur_ind=initial_ind\n",
    "        new_statements=[]\n",
    "        for (slotind, slotname) in enumerate(ci.slotnames)\n",
    "            slot = Core.SlotNumber(slotind)\n",
    "            push!(new_statements, Expr(:isdefined, slot))\n",
    "            cur_ind+=1\n",
    "            push!(new_statements,\n",
    "                Expr(:gotoifnot, Core.SSAValue(cur_ind-1), cur_ind + 2)\n",
    "            )\n",
    "            cur_ind+=1\n",
    "            push!(new_statements, \n",
    "                call_expr(Main, :iprintstyled,\n",
    "                    \"Index \", initial_ind, \" \",\n",
    "                    QuoteNode(slotname), \" \", slot,\n",
    "                    QuoteNode(:blue)\n",
    "                )\n",
    "            )\n",
    "            cur_ind+=1\n",
    "        end\n",
    "        push!(new_statements, stmt)\n",
    "        return new_statements\n",
    "    end\n",
    "    \n",
    "    Core.println()\n",
    "    Cassette.insert_statements!(\n",
    "        ci.code, ci.codelocs,\n",
    "        (stmt, i) -> stmt isa Expr ? 3length(ci.slotnames)+1 : nothing,\n",
    "        enter_debug_statements,\n",
    "    )\n",
    "    #Core.println(ci)\n",
    "    Core.println\n",
    "    return ci\n",
    "end\n",
    "\n",
    "pass31n = Cassette.@pass instrument31!"
   ]
  },
  {
   "cell_type": "code",
   "execution_count": 45,
   "metadata": {},
   "outputs": [
    {
     "data": {
      "text/html": [
       "<pre style=\"color: blue\">Index 1 #self# getfield(Main, Symbol(\"##74#75\"))()</pre>"
      ]
     },
     "metadata": {},
     "output_type": "display_data"
    },
    {
     "data": {
      "text/html": [
       "<pre style=\"color: green\">fun_times() in Main at In[45]:2</pre>"
      ]
     },
     "metadata": {},
     "output_type": "display_data"
    },
    {
     "data": {
      "text/html": [
       "<pre style=\"color: blue\">Index 1 #self# fun_times</pre>"
      ]
     },
     "metadata": {},
     "output_type": "display_data"
    },
    {
     "data": {
      "text/html": [
       "<pre style=\"color: blue\">Index 11 #self# fun_times</pre>"
      ]
     },
     "metadata": {},
     "output_type": "display_data"
    },
    {
     "data": {
      "text/html": [
       "<pre style=\"color: blue\">Index 11 y 2</pre>"
      ]
     },
     "metadata": {},
     "output_type": "display_data"
    },
    {
     "data": {
      "text/html": [
       "<pre style=\"color: blue\">Index 21 #self# fun_times</pre>"
      ]
     },
     "metadata": {},
     "output_type": "display_data"
    },
    {
     "data": {
      "text/html": [
       "<pre style=\"color: blue\">Index 21 x 2</pre>"
      ]
     },
     "metadata": {},
     "output_type": "display_data"
    },
    {
     "data": {
      "text/html": [
       "<pre style=\"color: blue\">Index 21 y 2</pre>"
      ]
     },
     "metadata": {},
     "output_type": "display_data"
    },
    {
     "data": {
      "text/html": [
       "<pre style=\"color: green\">+(x::T, y::T) where T<:Union{Int128, Int16, Int32, Int64, Int8, UInt128, UInt16, UInt32, UInt64, UInt8} in Base at int.jl:53</pre>"
      ]
     },
     "metadata": {},
     "output_type": "display_data"
    },
    {
     "data": {
      "text/html": [
       "<pre style=\"color: blue\">Index 1 #self# +</pre>"
      ]
     },
     "metadata": {},
     "output_type": "display_data"
    },
    {
     "data": {
      "text/html": [
       "<pre style=\"color: blue\">Index 1 x 2</pre>"
      ]
     },
     "metadata": {},
     "output_type": "display_data"
    },
    {
     "data": {
      "text/html": [
       "<pre style=\"color: blue\">Index 1 y 2</pre>"
      ]
     },
     "metadata": {},
     "output_type": "display_data"
    },
    {
     "data": {
      "text/html": [
       "<pre style=\"color: blue\">Index 11 #self# +</pre>"
      ]
     },
     "metadata": {},
     "output_type": "display_data"
    },
    {
     "data": {
      "text/html": [
       "<pre style=\"color: blue\">Index 11 x 2</pre>"
      ]
     },
     "metadata": {},
     "output_type": "display_data"
    },
    {
     "data": {
      "text/html": [
       "<pre style=\"color: blue\">Index 11 y 2</pre>"
      ]
     },
     "metadata": {},
     "output_type": "display_data"
    },
    {
     "data": {
      "text/html": [
       "<pre style=\"color: blue\">Index 31 #self# fun_times</pre>"
      ]
     },
     "metadata": {},
     "output_type": "display_data"
    },
    {
     "data": {
      "text/html": [
       "<pre style=\"color: blue\">Index 31 x 2</pre>"
      ]
     },
     "metadata": {},
     "output_type": "display_data"
    },
    {
     "data": {
      "text/html": [
       "<pre style=\"color: blue\">Index 31 y 2</pre>"
      ]
     },
     "metadata": {},
     "output_type": "display_data"
    },
    {
     "data": {
      "text/html": [
       "<pre style=\"color: blue\">Index 41 #self# fun_times</pre>"
      ]
     },
     "metadata": {},
     "output_type": "display_data"
    },
    {
     "data": {
      "text/html": [
       "<pre style=\"color: blue\">Index 41 x 2</pre>"
      ]
     },
     "metadata": {},
     "output_type": "display_data"
    },
    {
     "data": {
      "text/html": [
       "<pre style=\"color: blue\">Index 41 y 4</pre>"
      ]
     },
     "metadata": {},
     "output_type": "display_data"
    },
    {
     "data": {
      "text/html": [
       "<pre style=\"color: blue\">Index 5 #self# getfield(Main, Symbol(\"##74#75\"))()</pre>"
      ]
     },
     "metadata": {},
     "output_type": "display_data"
    },
    {
     "name": "stdout",
     "output_type": "stream",
     "text": [
      "\n",
      "\n",
      "\n",
      "\n",
      "\n",
      "\n"
     ]
    },
    {
     "data": {
      "text/plain": [
       "4"
      ]
     },
     "execution_count": 45,
     "metadata": {},
     "output_type": "execute_result"
    }
   ],
   "source": [
    "function fun_times()\n",
    "    y=2\n",
    "    x=2\n",
    "    y=x+y\n",
    "end \n",
    "Cassette.@overdub Concept31(metadata=Ref(0), pass=pass31n) fun_times()"
   ]
  },
  {
   "cell_type": "markdown",
   "metadata": {},
   "source": [
    "### But! you can't just call `isdefined` whenever you want\n",
    "```julia\n",
    "function danger19()\n",
    "    y=2\n",
    "    function inner()\n",
    "        h=y\n",
    "        y=12\n",
    "        return h\n",
    "    end\n",
    "    inner()\n",
    "end \n",
    "Cassette.@overdub Concept31(metadata=Ref(0), pass=pass31n) danger19()\n",
    "```"
   ]
  },
  {
   "cell_type": "markdown",
   "metadata": {},
   "source": [
    "### Woot! the optimizer just OOB'ed\n",
    "\n",
    "<img src=\"./boundserror.png\" style=\"border-style: double;\"/>\n"
   ]
  },
  {
   "cell_type": "code",
   "execution_count": 31,
   "metadata": {},
   "outputs": [
    {
     "data": {
      "text/html": [
       "<pre style=\"color: blue\">Index 1 #self# getfield(Main, Symbol(\"##54#55\"))()</pre>"
      ]
     },
     "metadata": {},
     "output_type": "display_data"
    },
    {
     "data": {
      "text/html": [
       "<pre style=\"color: green\">danger11(x) in Main at In[31]:2</pre>"
      ]
     },
     "metadata": {},
     "output_type": "display_data"
    },
    {
     "data": {
      "text/html": [
       "<pre style=\"color: blue\">Index 1 #self# danger11</pre>"
      ]
     },
     "metadata": {},
     "output_type": "display_data"
    },
    {
     "data": {
      "text/html": [
       "<pre style=\"color: blue\">Index 1 x 1</pre>"
      ]
     },
     "metadata": {},
     "output_type": "display_data"
    },
    {
     "data": {
      "text/html": [
       "<pre style=\"color: blue\">Index 18 #self# danger11</pre>"
      ]
     },
     "metadata": {},
     "output_type": "display_data"
    },
    {
     "data": {
      "text/html": [
       "<pre style=\"color: blue\">Index 18 x 1</pre>"
      ]
     },
     "metadata": {},
     "output_type": "display_data"
    },
    {
     "data": {
      "text/html": [
       "<pre style=\"color: blue\">Index 18 x 1</pre>"
      ]
     },
     "metadata": {},
     "output_type": "display_data"
    },
    {
     "data": {
      "text/html": [
       "<pre style=\"color: green\">==(x::T, y::T) where T<:Number in Base at promotion.jl:403</pre>"
      ]
     },
     "metadata": {},
     "output_type": "display_data"
    },
    {
     "data": {
      "text/html": [
       "<pre style=\"color: blue\">Index 1 #self# ==</pre>"
      ]
     },
     "metadata": {},
     "output_type": "display_data"
    },
    {
     "data": {
      "text/html": [
       "<pre style=\"color: blue\">Index 1 x 1</pre>"
      ]
     },
     "metadata": {},
     "output_type": "display_data"
    },
    {
     "data": {
      "text/html": [
       "<pre style=\"color: blue\">Index 1 y 1</pre>"
      ]
     },
     "metadata": {},
     "output_type": "display_data"
    },
    {
     "data": {
      "text/html": [
       "<pre style=\"color: blue\">Index 11 #self# ==</pre>"
      ]
     },
     "metadata": {},
     "output_type": "display_data"
    },
    {
     "data": {
      "text/html": [
       "<pre style=\"color: blue\">Index 11 x 1</pre>"
      ]
     },
     "metadata": {},
     "output_type": "display_data"
    },
    {
     "data": {
      "text/html": [
       "<pre style=\"color: blue\">Index 11 y 1</pre>"
      ]
     },
     "metadata": {},
     "output_type": "display_data"
    },
    {
     "data": {
      "text/html": [
       "<pre style=\"color: blue\">Index 34 #self# danger11</pre>"
      ]
     },
     "metadata": {},
     "output_type": "display_data"
    },
    {
     "data": {
      "text/html": [
       "<pre style=\"color: blue\">Index 34 x 1</pre>"
      ]
     },
     "metadata": {},
     "output_type": "display_data"
    },
    {
     "data": {
      "text/html": [
       "<pre style=\"color: blue\">Index 34 x 1</pre>"
      ]
     },
     "metadata": {},
     "output_type": "display_data"
    },
    {
     "data": {
      "text/html": [
       "<pre style=\"color: blue\">Index 50 #self# danger11</pre>"
      ]
     },
     "metadata": {},
     "output_type": "display_data"
    },
    {
     "data": {
      "text/html": [
       "<pre style=\"color: blue\">Index 50 x 1</pre>"
      ]
     },
     "metadata": {},
     "output_type": "display_data"
    },
    {
     "data": {
      "text/html": [
       "<pre style=\"color: blue\">Index 50 x 1</pre>"
      ]
     },
     "metadata": {},
     "output_type": "display_data"
    },
    {
     "data": {
      "text/html": [
       "<pre style=\"color: blue\">Index 66 #self# danger11</pre>"
      ]
     },
     "metadata": {},
     "output_type": "display_data"
    },
    {
     "data": {
      "text/html": [
       "<pre style=\"color: blue\">Index 66 x 1</pre>"
      ]
     },
     "metadata": {},
     "output_type": "display_data"
    },
    {
     "data": {
      "text/html": [
       "<pre style=\"color: blue\">Index 66 y 1</pre>"
      ]
     },
     "metadata": {},
     "output_type": "display_data"
    },
    {
     "data": {
      "text/html": [
       "<pre style=\"color: blue\">Index 66 x 1</pre>"
      ]
     },
     "metadata": {},
     "output_type": "display_data"
    },
    {
     "data": {
      "text/html": [
       "<pre style=\"color: blue\">Index 5 #self# getfield(Main, Symbol(\"##54#55\"))()</pre>"
      ]
     },
     "metadata": {},
     "output_type": "display_data"
    },
    {
     "name": "stderr",
     "output_type": "stream",
     "text": [
      "Internal error: encountered unexpected error in runtime:\n",
      "BoundsError(a=Array{Any, (187,)}[SSAValue(1), SSAValue(2), SSAValue(3), SSAValue(18446744073709551615), SSAValue(5), SSAValue(6), SSAValue(18446744073709551615), SSAValue(8), SSAValue(9), SSAValue(18446744073709551615), SSAValue(11), SSAValue(18446744073709551615), SSAValue(13), SSAValue(18446744073709551615), SSAValue(15), SSAValue(16), SSAValue(17), SSAValue(18446744073709551615), SSAValue(19), SSAValue(20), SSAValue(18446744073709551615), SSAValue(22), SSAValue(23), SSAValue(18446744073709551615), SSAValue(25), SSAValue(18446744073709551615), SSAValue(27), SSAValue(18446744073709551615), SSAValue(29), SSAValue(30), SSAValue(31), SSAValue(32), SSAValue(33), SSAValue(34), SSAValue(18446744073709551615), SSAValue(36), SSAValue(37), SSAValue(18446744073709551615), SSAValue(39), SSAValue(40), SSAValue(18446744073709551615), SSAValue(42), SSAValue(18446744073709551615), SSAValue(44), SSAValue(18446744073709551615), SSAValue(46), SSAValue(18446744073709551615), SSAValue(48), SSAValue(18446744073709551615), SSAValue(50), SSAValue(51), SSAValue(18446744073709551615), SSAValue(53), SSAValue(54), SSAValue(18446744073709551615), SSAValue(56), SSAValue(18446744073709551615), SSAValue(58), SSAValue(18446744073709551615), SSAValue(60), SSAValue(61), SSAValue(62), SSAValue(18446744073709551615), SSAValue(64), SSAValue(65), SSAValue(18446744073709551615), SSAValue(67), SSAValue(68), SSAValue(18446744073709551615), SSAValue(70), SSAValue(71), SSAValue(18446744073709551615), SSAValue(73), SSAValue(18446744073709551615), SSAValue(75), SSAValue(76), SSAValue(77), SSAValue(18446744073709551615), SSAValue(79), SSAValue(80), SSAValue(18446744073709551615), SSAValue(82), SSAValue(83), SSAValue(18446744073709551615), SSAValue(85), SSAValue(18446744073709551615), SSAValue(87), SSAValue(18446744073709551615), SSAValue(89), SSAValue(90), SSAValue(91), SSAValue(92), SSAValue(93), SSAValue(94), SSAValue(18446744073709551615), SSAValue(96), SSAValue(97), SSAValue(18446744073709551615), SSAValue(99), SSAValue(100), SSAValue(18446744073709551615), SSAValue(102), SSAValue(18446744073709551615), SSAValue(104), SSAValue(18446744073709551615), SSAValue(106), SSAValue(18446744073709551615), SSAValue(108), SSAValue(18446744073709551615), SSAValue(110), SSAValue(111), SSAValue(18446744073709551615), SSAValue(113), SSAValue(114), SSAValue(18446744073709551615), SSAValue(116), SSAValue(18446744073709551615), SSAValue(118), SSAValue(18446744073709551615), SSAValue(120), SSAValue(121), SSAValue(122), SSAValue(18446744073709551615), SSAValue(124), SSAValue(125), SSAValue(18446744073709551615), SSAValue(127), SSAValue(128), SSAValue(18446744073709551615), SSAValue(130), SSAValue(18446744073709551615), SSAValue(132), SSAValue(133), SSAValue(18446744073709551615), SSAValue(135), SSAValue(136), SSAValue(137), SSAValue(138), SSAValue(139), SSAValue(140), SSAValue(18446744073709551615), SSAValue(142), SSAValue(143), SSAValue(18446744073709551615), SSAValue(145), SSAValue(146), SSAValue(18446744073709551615), SSAValue(148), SSAValue(18446744073709551615), SSAValue(150), SSAValue(151), SSAValue(18446744073709551615), SSAValue(153), SSAValue(154), SSAValue(155), SSAValue(156), SSAValue(157), SSAValue(158), SSAValue(18446744073709551615), SSAValue(160), SSAValue(161), SSAValue(18446744073709551615), SSAValue(163), SSAValue(164), SSAValue(18446744073709551615), SSAValue(166), SSAValue(18446744073709551615), SSAValue(168), SSAValue(169), SSAValue(18446744073709551615), SSAValue(171), SSAValue(172), SSAValue(173), SSAValue(18446744073709551615), SSAValue(175), SSAValue(176), SSAValue(18446744073709551615), SSAValue(178), SSAValue(179), SSAValue(18446744073709551615), SSAValue(181), SSAValue(18446744073709551615), SSAValue(183), SSAValue(18446744073709551615), SSAValue(185), SSAValue(186), SSAValue(18446744073709551615)], i=(-1,))\n",
      "rec_backtrace at /Users/osx/buildbot/slave/package_osx64/build/src/stackwalk.c:94\n",
      "record_backtrace at /Users/osx/buildbot/slave/package_osx64/build/src/task.c:217 [inlined]\n",
      "jl_throw at /Users/osx/buildbot/slave/package_osx64/build/src/task.c:417\n",
      "jl_bounds_error_ints at /Users/osx/buildbot/slave/package_osx64/build/src/rtutils.c:183\n",
      "getindex at ./array.jl:729 [inlined]\n",
      "renumber_ssa at ./compiler/ssair/slot2ssa.jl:65 [inlined]\n",
      "#241 at ./compiler/ssair/slot2ssa.jl:74 [inlined]\n",
      "ssamap at ./compiler/ssair/ir.jl:429\n",
      "renumber_ssa! at ./compiler/ssair/slot2ssa.jl:74 [inlined]\n",
      "renumber_ssa! at ./compiler/ssair/slot2ssa.jl:73\n",
      "construct_ssa! at ./compiler/ssair/slot2ssa.jl:859\n",
      "just_construct_ssa at ./compiler/ssair/driver.jl:109\n",
      "run_passes at ./compiler/ssair/driver.jl:114\n",
      "optimize at ./compiler/optimize.jl:164\n",
      "typeinf at ./compiler/typeinfer.jl:35\n",
      "typeinf_edge at ./compiler/typeinfer.jl:497\n",
      "abstract_call_method at ./compiler/abstractinterpretation.jl:345\n",
      "abstract_call_gf_by_type at ./compiler/abstractinterpretation.jl:85\n",
      "abstract_call at ./compiler/abstractinterpretation.jl:776\n",
      "abstract_apply at ./compiler/abstractinterpretation.jl:519\n",
      "abstract_call at ./compiler/abstractinterpretation.jl:567\n",
      "abstract_eval_call at ./compiler/abstractinterpretation.jl:805\n",
      "abstract_eval at ./compiler/abstractinterpretation.jl:890\n",
      "typeinf_local at ./compiler/abstractinterpretation.jl:1121\n",
      "typeinf_nocycle at ./compiler/abstractinterpretation.jl:1191\n",
      "typeinf at ./compiler/typeinfer.jl:14\n",
      "typeinf_edge at ./compiler/typeinfer.jl:497\n",
      "abstract_call_method at ./compiler/abstractinterpretation.jl:345\n",
      "abstract_call_gf_by_type at ./compiler/abstractinterpretation.jl:85\n",
      "abstract_call at ./compiler/abstractinterpretation.jl:776\n",
      "abstract_eval_call at ./compiler/abstractinterpretation.jl:805\n",
      "abstract_eval at ./compiler/abstractinterpretation.jl:890\n",
      "typeinf_local at ./compiler/abstractinterpretation.jl:1135\n",
      "typeinf_nocycle at ./compiler/abstractinterpretation.jl:1191\n",
      "typeinf at ./compiler/typeinfer.jl:14\n",
      "typeinf_ext at ./compiler/typeinfer.jl:576\n",
      "typeinf_ext at ./compiler/typeinfer.jl:613\n",
      "jfptr_typeinf_ext_1.clone_1 at /Applications/Julia-1.1.app/Contents/Resources/julia/lib/julia/sys.dylib (unknown line)\n",
      "jl_apply_generic at /Users/osx/buildbot/slave/package_osx64/build/src/gf.c:2219 [inlined]\n",
      "jl_apply at /Users/osx/buildbot/slave/package_osx64/build/src/./julia.h:1571 [inlined]\n",
      "jl_type_infer at /Users/osx/buildbot/slave/package_osx64/build/src/gf.c:277\n",
      "jl_compile_method_internal at /Users/osx/buildbot/slave/package_osx64/build/src/gf.c:1819\n",
      "jl_fptr_trampoline at /Users/osx/buildbot/slave/package_osx64/build/src/gf.c:1863\n",
      "do_call at /Users/osx/buildbot/slave/package_osx64/build/src/interpreter.c:323\n",
      "eval_stmt_value at /Users/osx/buildbot/slave/package_osx64/build/src/interpreter.c:362 [inlined]\n",
      "eval_body at /Users/osx/buildbot/slave/package_osx64/build/src/interpreter.c:759\n",
      "jl_interpret_toplevel_thunk_callback at /Users/osx/buildbot/slave/package_osx64/build/src/interpreter.c:885\n",
      "Interpreter frame (ip: 14)\n",
      "Core.CodeInfo(code=Array{Any, (16,)}[\n",
      "  Expr(:thunk, Core.CodeInfo(code=Array{Any, (4,)}[\n",
      "  Expr(:global, Symbol(\"##54#55\")),\n",
      "  Expr(:const, Symbol(\"##54#55\")),\n",
      "  Expr(:struct_type, Symbol(\"##54#55\"), Expr(:call, Core.svec), Expr(:call, Core.svec), Core.Function, Expr(:call, Core.svec), false, 0),\n",
      "  Expr(:return, nothing)], codelocs=Array{Int32, (4,)}[1, 1, 1, 1], method_for_inference_limit_heuristics=nothing, ssavaluetypes=4, linetable=Array{Any, (1,)}[Core.LineInfoNode(mod=Main, method=Symbol(\"top-level scope\"), file=:none, line=0, inlined_at=0)], ssaflags=Array{UInt8, (0,)}[], slotflags=Array{UInt8, (0,)}[], slotnames=Array{Any, (0,)}[], inferred=false, inlineable=false, propagate_inbounds=false, pure=false)),\n",
      "  Expr(:call, Core.svec, Symbol(\"##54#55\")),\n",
      "  Expr(:call, Core.svec),\n",
      "  Expr(:call, Core.svec, SSAValue(2), SSAValue(3)),\n",
      "  Expr(:method, false, SSAValue(4), Core.CodeInfo(code=Array{Any, (2,)}[\n",
      "  Expr(:call, Main.danger11, 1),\n",
      "  Expr(:return, SSAValue(1))], codelocs=Array{Int32, (2,)}[1, 1], method_for_inference_limit_heuristics=nothing, ssavaluetypes=2, linetable=Array{Any, (1,)}[Core.LineInfoNode(mod=Main, method=Symbol(\"#54\"), file=Symbol(\"/Users/oxinabox/.julia/packages/Cassette/N8DMt/src/overdub.jl\"), line=679, inlined_at=0)], ssaflags=Array{UInt8, (0,)}[], slotflags=Array{UInt8, (1,)}[0x00], slotnames=Array{Any, (1,)}[Symbol(\"#self#\")], inferred=false, inlineable=false, propagate_inbounds=false, pure=false)),\n",
      "  Expr(:call, :Ref, 0),\n",
      "  Expr(:call, Core.tuple, :(:metadata), :(:pass)),\n",
      "  Expr(:call, Core.apply_type, Core.NamedTuple, SSAValue(7)),\n",
      "  Expr(:call, Core.tuple, SSAValue(6), :pass31n),\n",
      "  Expr(:call, SSAValue(8), SSAValue(9)),\n",
      "  Expr(:call, Core.kwfunc, :Concept31),\n",
      "  Expr(:call, SSAValue(11), SSAValue(10), :Concept31),\n",
      "  Core.SlotNumber(id=1) = Expr(:new, Symbol(\"##54#55\")),\n",
      "  Core.SlotNumber(id=1),\n",
      "  Expr(:call, Cassette.recurse, SSAValue(12), SSAValue(14)),\n",
      "  Expr(:return, SSAValue(15))], codelocs=Array{Int32, (16,)}[1, 1, 1, 1, 1, 1, 1, 1, 1, 1, 1, 1, 1, 1, 1, 1], method_for_inference_limit_heuristics=nothing, ssavaluetypes=16, linetable=Array{Any, (1,)}[Core.LineInfoNode(mod=Main, method=Symbol(\"top-level scope\"), file=Symbol(\"In[31]\"), line=14, inlined_at=0)], ssaflags=Array{UInt8, (0,)}[], slotflags=Array{UInt8, (1,)}[0x10], slotnames=Array{Any, (1,)}[Symbol(\"#54\")], inferred=false, inlineable=false, propagate_inbounds=false, pure=false)jl_interpret_toplevel_thunk at /Users/osx/buildbot/slave/package_osx64/build/src/interpreter.c:894\n",
      "jl_toplevel_eval_flex at /Users/osx/buildbot/slave/package_osx64/build/src/toplevel.c:764\n",
      "jl_toplevel_eval at /Users/osx/buildbot/slave/package_osx64/build/src/toplevel.c:773 [inlined]\n",
      "jl_toplevel_eval_in at /Users/osx/buildbot/slave/package_osx64/build/src/toplevel.c:793\n",
      "eval at ./boot.jl:328 [inlined]\n",
      "softscope_include_string at /Users/oxinabox/.julia/packages/SoftGlobalScope/cSbw5/src/SoftGlobalScope.jl:218\n",
      "execute_request at /Users/oxinabox/.julia/packages/IJulia/gI2uA/src/execute_request.jl:67\n",
      "jl_apply at /Users/osx/buildbot/slave/package_osx64/build/src/./julia.h:1571 [inlined]\n",
      "jl_f__apply at /Users/osx/buildbot/slave/package_osx64/build/src/builtins.c:556\n",
      "jl_f__apply_latest at /Users/osx/buildbot/slave/package_osx64/build/src/builtins.c:594\n",
      "#invokelatest#1 at ./essentials.jl:742 [inlined]\n",
      "invokelatest at ./essentials.jl:741 [inlined]\n",
      "eventloop at /Users/oxinabox/.julia/packages/IJulia/gI2uA/src/eventloop.jl:8\n",
      "#15 at ./task.jl:259\n",
      "jl_fptr_trampoline at /Users/osx/buildbot/slave/package_osx64/build/src/gf.c:1864\n",
      "jl_apply at /Users/osx/buildbot/slave/package_osx64/build/src/./julia.h:1571 [inlined]\n",
      "start_task at /Users/osx/buildbot/slave/package_osx64/build/src/task.c:572\n"
     ]
    },
    {
     "name": "stdout",
     "output_type": "stream",
     "text": [
      "\n",
      "\n",
      "\n",
      "\n",
      "\n"
     ]
    },
    {
     "data": {
      "text/plain": [
       "1"
      ]
     },
     "execution_count": 31,
     "metadata": {},
     "output_type": "execute_result"
    }
   ],
   "source": [
    "function danger11(x)\n",
    "    if x==1\n",
    "        y=1\n",
    "        return x\n",
    "    elseif x==2\n",
    "        let\n",
    "            m=2\n",
    "            x+=m\n",
    "        end\n",
    "        return 2x\n",
    "    end\n",
    "    return x\n",
    "end\n",
    "\n",
    "Cassette.@overdub Concept31(metadata=Ref(0), pass=pass31n) danger11(1)"
   ]
  },
  {
   "cell_type": "markdown",
   "metadata": {
    "slideshow": {
     "slide_type": "slide"
    }
   },
   "source": [
    "## How not make your instrumenting debugger,\n",
    "### Or Cassette code in general\n",
    "## Incredibly 🐌 sloooow 🐢\n",
    "#### At runtime"
   ]
  },
  {
   "cell_type": "markdown",
   "metadata": {
    "slideshow": {
     "slide_type": "subslide"
    }
   },
   "source": [
    "## MRH 0.3 is literally 3-4 orders of magnitude faster than 0.2\n",
    "#### At runtime\n",
    "# 🐆 gotta go fast 🐇"
   ]
  },
  {
   "cell_type": "markdown",
   "metadata": {
    "slideshow": {
     "slide_type": "subslide"
    }
   },
   "source": [
    "### ♨️➰ The Hottest of Loops\n",
    "\n",
    "There is no **hot loop** as hot as\n",
    "_literally every single statement in your code_\n",
    "\n",
    "Almost as hot:\n",
    "_Literally every function call in your code_"
   ]
  },
  {
   "cell_type": "markdown",
   "metadata": {
    "slideshow": {
     "slide_type": "subslide"
    }
   },
   "source": [
    "### 🗄️🖥️ Don't implement your state-machine using dispatch\n",
    " - Previously `StepNext`, `Continue` were singleton types.\n",
    " - working out new state was done via (dynamic) dispatches\n",
    " - This needs to be done in every function call ♨️➰\n",
    " - Dispatch is fast 🏃. branches on  enums is faster 🚀"
   ]
  },
  {
   "cell_type": "markdown",
   "metadata": {
    "slideshow": {
     "slide_type": "subslide"
    }
   },
   "source": [
    "### 📖 Don't call `method`s to get the `Method`\n",
    "\n",
    " - Calling to `method`s takes whole microseconds.\n",
    " - You get it \"free\" during a pass.\n",
    " - Til then learn to live without."
   ]
  },
  {
   "cell_type": "markdown",
   "metadata": {
    "slideshow": {
     "slide_type": "subslide"
    }
   },
   "source": [
    "### 🚫 👨‍⚕️  investigate `@nospecialize`\n",
    " - This can matter for runtime because sometimes things get compile again.\n",
    " - No sense compiling specialized methods most of the time."
   ]
  },
  {
   "cell_type": "markdown",
   "metadata": {
    "slideshow": {
     "slide_type": "subslide"
    }
   },
   "source": [
    "### ∈ 📏  Inline Your Overdubs.\n",
    "\n",
    "Huge performance gain from\n",
    "```julia\n",
    "@inline function Cassette.overdub(ctx::HandEvalCtx, f, args...)\n",
    "```"
   ]
  },
  {
   "cell_type": "markdown",
   "metadata": {
    "slideshow": {
     "slide_type": "slide"
    }
   },
   "source": [
    "# What can we do about those quadratic compile times?"
   ]
  },
  {
   "cell_type": "markdown",
   "metadata": {
    "slideshow": {
     "slide_type": "subslide"
    }
   },
   "source": [
    "### MRH massively increases the amount of Lowered IR generated\n",
    "\n",
    "Original Code Lowered Size: $$O(n_{statements})\\qquad \\qquad \\mathrm{eg:}\\quad 160$$\n",
    "\n",
    "MRH Instrumented Size: $$O(n_{slots} \\times n_{statements}) \\qquad \\qquad \\mathrm{eg:}\\quad 25,230$$ \n",
    "\n",
    "### Compile time-complexity is at worse then quadratic vs IR length"
   ]
  },
  {
   "cell_type": "markdown",
   "metadata": {},
   "source": [
    "### A) Change the optimizer\n",
    " - make it not $O(n_{statements}^2)$ if $n_{statements} > 10,000$\n",
    " - Kinda defeats the purpose of using the compiler.\n",
    " - Probably a good idea in general"
   ]
  },
  {
   "cell_type": "markdown",
   "metadata": {},
   "source": [
    "### B) Don't instrument everything\n",
    " - Already option `set_uninstrumented!`\n",
    " - This blocks breakpoints anywhere deaper in the call-stack\n",
    " - **New Idea:** _Semi-instrumented_. Don't instrument this *except* to allow children to be instrumented."
   ]
  },
  {
   "cell_type": "markdown",
   "metadata": {},
   "source": [
    "### C) Generate-less code\n",
    " - MRH Instrumented Size: $O(n_{slots} \\times n_{statements})$\n",
    " - More precisely it is $\\approx (4\\times n_{slots} + 5) \\times n_{statements}$\n",
    " - What can we cut:\n",
    "  - ☐  building list of slotnames ($(n_{slots}+1) \\times n_{statements}$)\n",
    "  - ☑️ `isdefined` before it has been used ($\\le2 \\times n_{slots} \\times n_{statements}$)\n",
    "  - ☐ `isdefined` after it has been used ($\\le2 \\times n_{slots} \\times n_{statements}$)\n"
   ]
  },
  {
   "cell_type": "markdown",
   "metadata": {
    "slideshow": {
     "slide_type": "slide"
    }
   },
   "source": [
    "# What is next for MagneticReadHead ? \n",
    " - Bug squashing\n",
    " - Rewrite in IRTools.jl\n",
    " - More alignment with Debugger.jl / Apply this kind of tooling into Debugger.jl\n",
    " - Instrument-Less\n",
    "     - Only on line changes\n",
    "     - uninstrumented functions with instrumented children"
   ]
  },
  {
   "cell_type": "code",
   "execution_count": null,
   "metadata": {},
   "outputs": [],
   "source": []
  }
 ],
 "metadata": {
  "kernelspec": {
   "display_name": "Julia 1.1.0",
   "language": "julia",
   "name": "julia-1.1"
  },
  "language_info": {
   "file_extension": ".jl",
   "mimetype": "application/julia",
   "name": "julia",
   "version": "1.1.0"
  }
 },
 "nbformat": 4,
 "nbformat_minor": 2
}
