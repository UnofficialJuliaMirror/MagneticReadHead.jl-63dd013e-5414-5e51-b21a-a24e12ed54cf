{
 "cells": [
  {
   "cell_type": "markdown",
   "metadata": {
    "slideshow": {
     "slide_type": "slide"
    }
   },
   "source": [
    "# Building a Debugger with Cassette\n",
    "<img src=\"https://avatars1.githubusercontent.com/u/46803805?s=156&v=4\" style=\"display: inline\"> <img src=\"https://raw.githubusercontent.com/jrevels/Cassette.jl/master/docs/img/cassette-logo.png\" width=\"256\" style=\"display: inline\"/>\n",
    "## Lyndon White (@oxinabox)\n",
    "### RSE at Invenia Labs"
   ]
  },
  {
   "cell_type": "code",
   "execution_count": 36,
   "metadata": {},
   "outputs": [
    {
     "data": {
      "text/plain": [
       "iprintstyled (generic function with 2 methods)"
      ]
     },
     "execution_count": 36,
     "metadata": {},
     "output_type": "execute_result"
    }
   ],
   "source": [
    "function iprintstyled(xs...)\n",
    "    color=last(xs)\n",
    "    x = join(xs[1:end-1])\n",
    "    display(\"text/html\", \"\"\"<pre style=\"color: $color\">$x</pre>\"\"\")\n",
    "end"
   ]
  },
  {
   "cell_type": "markdown",
   "metadata": {
    "slideshow": {
     "slide_type": "slide"
    }
   },
   "source": [
    "## With Thanks\n",
    " - Tim Holy\n",
    " - Jarrett Revels\n",
    " - Keno Fischer\n",
    " - Kristoffer Carlsson"
   ]
  },
  {
   "cell_type": "markdown",
   "metadata": {
    "slideshow": {
     "slide_type": "slide"
    }
   },
   "source": [
    "## Outline:\n",
    " - About MagneticReadHead \n",
    " - 3 Debuggers:\n",
    "    - Overdubbing Calls only (MRH v0.1)\n",
    "    - Track everything (MRH v0.2)\n",
    "    - Track nothing (MRH v0.3)\n",
    "    "
   ]
  },
  {
   "cell_type": "markdown",
   "metadata": {
    "slideshow": {
     "slide_type": "slide"
    }
   },
   "source": [
    "### What is Magnetic Read Head ?\n",
    "\n",
    "A Magentic Read Head sits above a cassette tape (or a magnetic disk), and reads the content off of it.\n",
    "\n",
    " - The MRH is a debugger that works by modifying the IR level code during the compilation process, to include debug instrumentation.\n",
    " - it is completely compiled using the standard julia compiler.\n",
    " - Incontrast to Debugger.jl which uses JuliaInterpreter.jl\n",
    " - Incontrast to Gallium which used some kind of LLVM magic"
   ]
  },
  {
   "cell_type": "markdown",
   "metadata": {
    "slideshow": {
     "slide_type": "slide"
    }
   },
   "source": [
    "### Performance:\n",
    "```julia\n",
    "function summer(A)\n",
    "   s = zero(eltype(A))\n",
    "   for a in A\n",
    "       s += a\n",
    "   end\n",
    "   return s\n",
    "end\n",
    "```\n",
    "\n",
    "**x**|**summer(rand(10))**|**summer(rand(100))**|**summer(rand(1000))**\n",
    "-----|-----|-----|-----\n",
    "Debugger|8E+05|1E+05|4E+04\n",
    "MRH|1E+05|6E+04|4E+04\n",
    "Native|1E+00|1E+00|1E+00"
   ]
  },
  {
   "cell_type": "markdown",
   "metadata": {
    "slideshow": {
     "slide_type": "subslide"
    }
   },
   "source": [
    "## Performance of debuggers is complicated:\n",
    " - MRH always has orders of magnitude less allocations than Debugger.jl\n",
    "    -  But this does not always translate into speed, so is not that interesting.\n",
    "    -  Native for this code does not allocate at all.\n",
    " - MRH is very slow on first run as it has to recompile every method it touchs,\n",
    " and first run-only run is common when debugging.\n",
    " - This kind of instrumentation destroys SIMD, and potentially breaks CPU pipelining.\n"
   ]
  },
  {
   "cell_type": "markdown",
   "metadata": {
    "slideshow": {
     "slide_type": "subslide"
    }
   },
   "source": [
    "## Insane performance blackholes exist\n",
    "\n",
    "```\n",
    "julia> foo() = Complex.(rand(1,2), rand(1,2)) * rand(Int, 2,1);\n",
    "\n",
    "julia> @btime foo();\n",
    "  297.770 ns (9 allocations: 720 bytes)\n",
    "\n",
    "julia> @btime Debugger.@run foo();\n",
    "  15.472 ms (46982 allocations: 1.78 MiB)\n",
    "\n",
    "julia> @time MagneticReadHead.@run foo()\n",
    "  <Hangs for over 30 minutes>\n",
    "```"
   ]
  },
  {
   "cell_type": "markdown",
   "metadata": {
    "slideshow": {
     "slide_type": "slide"
    }
   },
   "source": [
    "## Julia IR: Lightning Intro"
   ]
  },
  {
   "cell_type": "markdown",
   "metadata": {
    "slideshow": {
     "slide_type": "subslide"
    }
   },
   "source": [
    "## Julia: layers of representenstation:\n",
    " - julia lowering:\n",
    "     - Source code\n",
    "     - AST: `quote`\n",
    "     - Untyped IR: `@code_lowered`\n",
    "     - Typed IR: `@code_typed`\n",
    "     - LLVM: `@code_llvm`\n",
    "     - ASM: `@code_native`"
   ]
  },
  {
   "cell_type": "markdown",
   "metadata": {
    "slideshow": {
     "slide_type": "subslide"
    }
   },
   "source": [
    "### Untyped IR: this is what we are working with\n",
    " - basically a linearization of the AST\n",
    " - Variables -> Slots\n",
    " - Loops -> Label + Goto\n",
    " - Only 1 operation per statement (Nested expressions get broken up) \n",
    " - the return values for each statement is accessed as `SSAValue(index)`"
   ]
  },
  {
   "cell_type": "markdown",
   "metadata": {
    "slideshow": {
     "slide_type": "subslide"
    }
   },
   "source": [
    "## How Does Cassette Work?\n",
    " - It is not magic, Cassette is not specially baked into the compiler.\n",
    " - `@generated` function can return a `Expr` **or** a `CodeInfo`\n",
    " - We return a `CodeInfo` based on a modified version of one for a function argument. Its a bit like a macro with dynamic scope.\n",
    " - This capacity allows on to build AD tools, Mocking tools, Debuggers and more.\n",
    "     - Contrast: Swift for TensorFlow which is adding AD into the compiler."
   ]
  },
  {
   "cell_type": "markdown",
   "metadata": {
    "slideshow": {
     "slide_type": "subslide"
    }
   },
   "source": [
    "### Manual pass\n",
    "```julia\n",
    "call_and_print(f, args...) = (println(f, \" \", args); f(args...))\n",
    "\n",
    "@generated function rewritten(f)\n",
    "    meth = first(methods(f.instance, Tuple{}))\n",
    "    ci = copy(Base.uncompressed_ast(meth))\n",
    "    for ii in 1:length(ci.code)\n",
    "        if ci.code[ii] isa Expr && ci.code[ii].head==:call\n",
    "            func = GlobalRef(Main, :call_and_print)\n",
    "            ci.code[ii] = Expr(:call, func, statement.args...)\n",
    "        end\n",
    "    end\n",
    "    return ci\n",
    "end\n",
    "```"
   ]
  },
  {
   "cell_type": "markdown",
   "metadata": {
    "slideshow": {
     "slide_type": "subslide"
    }
   },
   "source": [
    "### Result of our manual pass:\n",
    "```julia\n",
    "julia> foo() = 2*(1+1);\n",
    "julia> rewritten(foo)\n",
    "+ (1, 1)\n",
    "* (2, 2)\n",
    "4\n",
    "```"
   ]
  },
  {
   "cell_type": "markdown",
   "metadata": {},
   "source": [
    "Rather than just transforming function calls to just call `call_and_print`  \n",
    "we could have changed them to call `rewrite`,\n",
    "\n",
    "This is how Cassette (and IRTools) work."
   ]
  },
  {
   "cell_type": "markdown",
   "metadata": {
    "slideshow": {
     "slide_type": "slide"
    }
   },
   "source": [
    "## Debugger 1\n",
    "### MRH v0.1-like\n",
    "### Overdub functions you want to debug."
   ]
  },
  {
   "cell_type": "markdown",
   "metadata": {
    "slideshow": {
     "slide_type": "slide"
    }
   },
   "source": [
    "### concept prototype"
   ]
  },
  {
   "cell_type": "code",
   "execution_count": 39,
   "metadata": {
    "slideshow": {
     "slide_type": "subslide"
    }
   },
   "outputs": [],
   "source": [
    "using Cassette\n",
    "Cassette.@context Concept1\n",
    "function Cassette.overdub(ctx::Concept1, f::typeof(+), args...)\n",
    "    method = @which f(args...)\n",
    "    iprintstyled(\"Breakpont Hit\", :red)\n",
    "    iprintstyled(method, :green);\n",
    "    iprintstyled(\"Args: \", args, :blue);\n",
    "    println(\"...press enter to continue...\")\n",
    "    readline()\n",
    "    \n",
    "    # invokelatest not required in julia 1.3\n",
    "    Cassette.recurse(ctx, f, args...)\n",
    "end"
   ]
  },
  {
   "cell_type": "code",
   "execution_count": 40,
   "metadata": {
    "slideshow": {
     "slide_type": "subslide"
    }
   },
   "outputs": [
    {
     "data": {
      "text/html": [
       "<pre style=\"color: red\">Breakpont Hit</pre>"
      ]
     },
     "metadata": {},
     "output_type": "display_data"
    },
    {
     "data": {
      "text/html": [
       "<pre style=\"color: green\">+(x::T, y::T) where T<:Union{Int128, Int16, Int32, Int64, Int8, UInt128, UInt16, UInt32, UInt64, UInt8} in Base at int.jl:53</pre>"
      ]
     },
     "metadata": {},
     "output_type": "display_data"
    },
    {
     "data": {
      "text/html": [
       "<pre style=\"color: blue\">Args: (4, 1)</pre>"
      ]
     },
     "metadata": {},
     "output_type": "display_data"
    },
    {
     "name": "stdout",
     "output_type": "stream",
     "text": [
      "...press enter to continue...\n"
     ]
    },
    {
     "name": "stdin",
     "output_type": "stream",
     "text": [
      "stdin>  \n"
     ]
    },
    {
     "data": {
      "text/html": [
       "<pre style=\"color: red\">Breakpont Hit</pre>"
      ]
     },
     "metadata": {},
     "output_type": "display_data"
    },
    {
     "data": {
      "text/html": [
       "<pre style=\"color: green\">+(x::T, y::T) where T<:Union{Int128, Int16, Int32, Int64, Int8, UInt128, UInt16, UInt32, UInt64, UInt8} in Base at int.jl:53</pre>"
      ]
     },
     "metadata": {},
     "output_type": "display_data"
    },
    {
     "data": {
      "text/html": [
       "<pre style=\"color: blue\">Args: (5, 10)</pre>"
      ]
     },
     "metadata": {},
     "output_type": "display_data"
    },
    {
     "name": "stdout",
     "output_type": "stream",
     "text": [
      "...press enter to continue...\n"
     ]
    },
    {
     "name": "stdin",
     "output_type": "stream",
     "text": [
      "stdin>  \n"
     ]
    },
    {
     "data": {
      "text/plain": [
       "15"
      ]
     },
     "execution_count": 40,
     "metadata": {},
     "output_type": "execute_result"
    }
   ],
   "source": [
    "function foo(a)\n",
    "    b = a+1\n",
    "    c= 2b\n",
    "    return b+c\n",
    "end\n",
    "Cassette.recurse(Concept1(), ()->foo(4))"
   ]
  },
  {
   "cell_type": "markdown",
   "metadata": {
    "slideshow": {
     "slide_type": "slide"
    }
   },
   "source": [
    "### Generalizing that prototype\n",
    " - add setting of breakpoint via `@eval`\n",
    " - add deleting of breakpoints via `Base.deletemethod`\n",
    " - add Stepping via setting a breakpoint on every call\n",
    " - Improve UX via showing a REPL with named variables etc"
   ]
  },
  {
   "cell_type": "code",
   "execution_count": null,
   "metadata": {},
   "outputs": [],
   "source": []
  },
  {
   "cell_type": "markdown",
   "metadata": {
    "slideshow": {
     "slide_type": "slide"
    }
   },
   "source": [
    "## Debugger 2\n",
    "### MRH v0.2-like\n",
    "### Lets insert IR statements"
   ]
  },
  {
   "cell_type": "code",
   "execution_count": null,
   "metadata": {},
   "outputs": [],
   "source": []
  },
  {
   "cell_type": "markdown",
   "metadata": {
    "slideshow": {
     "slide_type": "slide"
    }
   },
   "source": [
    "# What is next for MagneticReadHead ? \n",
    " - Bug squashing\n",
    " - Rewrite in IRTools.jl\n",
    " - Think about meta-debugging instrumentation.\n",
    " - More alignment with Debugger.jl\n",
    " - /Apply this kind of tooling into Debugger.jl\n",
    "\n",
    " "
   ]
  },
  {
   "cell_type": "code",
   "execution_count": null,
   "metadata": {},
   "outputs": [],
   "source": []
  }
 ],
 "metadata": {
  "kernelspec": {
   "display_name": "Julia 1.1.0",
   "language": "julia",
   "name": "julia-1.1"
  },
  "language_info": {
   "file_extension": ".jl",
   "mimetype": "application/julia",
   "name": "julia",
   "version": "1.1.0"
  }
 },
 "nbformat": 4,
 "nbformat_minor": 2
}
