{
 "cells": [
  {
   "cell_type": "markdown",
   "metadata": {},
   "source": [
    "# Building a Debugger with Cassette\n",
    "![](https://avatars1.githubusercontent.com/u/46803805?s=156&v=4)\n",
    "<img src=\"https://raw.githubusercontent.com/jrevels/Cassette.jl/master/docs/img/cassette-logo.png\" alt=\"drawing\" width=\"256\"/>\n",
    "## Lyndon White (@oxinabox)\n",
    "### RSE at Invenia Labs"
   ]
  },
  {
   "cell_type": "markdown",
   "metadata": {},
   "source": [
    "## With Thanks\n",
    " - Tim Holy\n",
    " - Jarrett Revels\n",
    " - Keno Fischer\n",
    " - Kristoffer Carlsson"
   ]
  },
  {
   "cell_type": "markdown",
   "metadata": {},
   "source": [
    "### What is Magnetic Read Head ?\n",
    "\n",
    "A Magentic Read Head sits above a cassette tape (or a magnetic disk), and reads the content off of it.\n",
    "\n"
   ]
  },
  {
   "cell_type": "code",
   "execution_count": null,
   "metadata": {},
   "outputs": [],
   "source": []
  },
  {
   "cell_type": "markdown",
   "metadata": {},
   "source": [
    "### Performance:\n",
    "```julia\n",
    "function summer(A)\n",
    "   s = zero(eltype(A))\n",
    "   for a in A\n",
    "       s += a\n",
    "   end\n",
    "   return s\n",
    "end\n",
    "```\n",
    "\n",
    "**x**|**summer(rand(10))**|**summer(rand(100))**|**summer(rand(1000))**\n",
    "-----|-----|-----|-----\n",
    "Debugger|8E+05|1E+05|4E+04\n",
    "MRH|1E+05|6E+04|4E+04\n",
    "Native|1E+00|1E+00|1E+00"
   ]
  },
  {
   "cell_type": "markdown",
   "metadata": {},
   "source": [
    "## Performance of debuggers is complicated:\n",
    " - MRH always has orders of magnitude less allocations than Debugger.jl\n",
    "But this does not always translate into speed, so is not that interesting.\n",
    "Also Native for this code does not allocate at all.\n",
    " - MRH is very slow on first run as it has to recompile every method it touchs,\n",
    " and first run=only run is common when debugging."
   ]
  },
  {
   "cell_type": "code",
   "execution_count": null,
   "metadata": {},
   "outputs": [],
   "source": []
  },
  {
   "cell_type": "markdown",
   "metadata": {},
   "source": [
    "# What is next for MagneticReadHead ? \n",
    " - Bug squashing\n",
    " - Rewrite in IRTools.jl\n",
    " - More alignment with Debugger.jl"
   ]
  },
  {
   "cell_type": "code",
   "execution_count": null,
   "metadata": {},
   "outputs": [],
   "source": []
  }
 ],
 "metadata": {
  "kernelspec": {
   "display_name": "Julia 1.1.0",
   "language": "julia",
   "name": "julia-1.1"
  },
  "language_info": {
   "file_extension": ".jl",
   "mimetype": "application/julia",
   "name": "julia",
   "version": "1.1.0"
  }
 },
 "nbformat": 4,
 "nbformat_minor": 2
}
